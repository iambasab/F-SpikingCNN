{
  "nbformat": 4,
  "nbformat_minor": 0,
  "metadata": {
    "colab": {
      "name": "Copy_caltech.ipynb",
      "provenance": []
    },
    "kernelspec": {
      "name": "python3",
      "display_name": "Python 3"
    },
    "accelerator": "GPU"
  },
  "cells": [
    {
      "cell_type": "code",
      "metadata": {
        "id": "_ZxWD8rVuigA",
        "colab_type": "code",
        "outputId": "45f3a108-9de0-4dd3-88e0-5e8a889c0a77",
        "colab": {
          "base_uri": "https://localhost:8080/",
          "height": 1000
        }
      },
      "source": [
        "! pip install --upgrade gitdb\n",
        "! pip install nengo-dl==2.0.0\n",
        "! pip install nengo==2.7.0\n",
        "\n",
        "! pip install tensorflow==1.14\n",
        "! pip install tensorflow-gpu==1.14\n",
        "\n",
        "%tensorflow_version 1.x\n",
        "\n",
        "import tensorflow.compat.v1 as tf\n",
        "tf.disable_v2_behavior()\n",
        "\n",
        "import nengo\n",
        "import nengo_dl"
      ],
      "execution_count": 1,
      "outputs": [
        {
          "output_type": "stream",
          "text": [
            "Requirement already up-to-date: gitdb in /usr/local/lib/python3.6/dist-packages (4.0.5)\n",
            "Requirement already satisfied, skipping upgrade: smmap<4,>=3.0.1 in /usr/local/lib/python3.6/dist-packages (from gitdb) (3.0.4)\n",
            "Requirement already satisfied: nengo-dl==2.0.0 in /usr/local/lib/python3.6/dist-packages (2.0.0)\n",
            "Requirement already satisfied: numpy>=1.12.1 in /usr/local/lib/python3.6/dist-packages (from nengo-dl==2.0.0) (1.18.5)\n",
            "Requirement already satisfied: tensorflow>=1.4.0 in /usr/local/lib/python3.6/dist-packages (from nengo-dl==2.0.0) (1.14.0)\n",
            "Requirement already satisfied: nengo>=2.7.0 in /usr/local/lib/python3.6/dist-packages (from nengo-dl==2.0.0) (2.7.0)\n",
            "Requirement already satisfied: progressbar2>=3.37.1 in /usr/local/lib/python3.6/dist-packages (from nengo-dl==2.0.0) (3.38.0)\n",
            "Requirement already satisfied: absl-py>=0.7.0 in /usr/local/lib/python3.6/dist-packages (from tensorflow>=1.4.0->nengo-dl==2.0.0) (0.9.0)\n",
            "Requirement already satisfied: wheel>=0.26 in /usr/local/lib/python3.6/dist-packages (from tensorflow>=1.4.0->nengo-dl==2.0.0) (0.34.2)\n",
            "Requirement already satisfied: protobuf>=3.6.1 in /usr/local/lib/python3.6/dist-packages (from tensorflow>=1.4.0->nengo-dl==2.0.0) (3.10.0)\n",
            "Requirement already satisfied: tensorboard<1.15.0,>=1.14.0 in /usr/local/lib/python3.6/dist-packages (from tensorflow>=1.4.0->nengo-dl==2.0.0) (1.14.0)\n",
            "Requirement already satisfied: google-pasta>=0.1.6 in /usr/local/lib/python3.6/dist-packages (from tensorflow>=1.4.0->nengo-dl==2.0.0) (0.2.0)\n",
            "Requirement already satisfied: keras-preprocessing>=1.0.5 in /usr/local/lib/python3.6/dist-packages (from tensorflow>=1.4.0->nengo-dl==2.0.0) (1.1.2)\n",
            "Requirement already satisfied: six>=1.10.0 in /usr/local/lib/python3.6/dist-packages (from tensorflow>=1.4.0->nengo-dl==2.0.0) (1.12.0)\n",
            "Requirement already satisfied: gast>=0.2.0 in /usr/local/lib/python3.6/dist-packages (from tensorflow>=1.4.0->nengo-dl==2.0.0) (0.3.3)\n",
            "Requirement already satisfied: wrapt>=1.11.1 in /usr/local/lib/python3.6/dist-packages (from tensorflow>=1.4.0->nengo-dl==2.0.0) (1.12.1)\n",
            "Requirement already satisfied: termcolor>=1.1.0 in /usr/local/lib/python3.6/dist-packages (from tensorflow>=1.4.0->nengo-dl==2.0.0) (1.1.0)\n",
            "Requirement already satisfied: keras-applications>=1.0.6 in /usr/local/lib/python3.6/dist-packages (from tensorflow>=1.4.0->nengo-dl==2.0.0) (1.0.8)\n",
            "Requirement already satisfied: astor>=0.6.0 in /usr/local/lib/python3.6/dist-packages (from tensorflow>=1.4.0->nengo-dl==2.0.0) (0.8.1)\n",
            "Requirement already satisfied: grpcio>=1.8.6 in /usr/local/lib/python3.6/dist-packages (from tensorflow>=1.4.0->nengo-dl==2.0.0) (1.29.0)\n",
            "Requirement already satisfied: tensorflow-estimator<1.15.0rc0,>=1.14.0rc0 in /usr/local/lib/python3.6/dist-packages (from tensorflow>=1.4.0->nengo-dl==2.0.0) (1.14.0)\n",
            "Requirement already satisfied: python-utils>=2.3.0 in /usr/local/lib/python3.6/dist-packages (from progressbar2>=3.37.1->nengo-dl==2.0.0) (2.4.0)\n",
            "Requirement already satisfied: setuptools in /usr/local/lib/python3.6/dist-packages (from protobuf>=3.6.1->tensorflow>=1.4.0->nengo-dl==2.0.0) (47.1.1)\n",
            "Requirement already satisfied: markdown>=2.6.8 in /usr/local/lib/python3.6/dist-packages (from tensorboard<1.15.0,>=1.14.0->tensorflow>=1.4.0->nengo-dl==2.0.0) (3.2.2)\n",
            "Requirement already satisfied: werkzeug>=0.11.15 in /usr/local/lib/python3.6/dist-packages (from tensorboard<1.15.0,>=1.14.0->tensorflow>=1.4.0->nengo-dl==2.0.0) (1.0.1)\n",
            "Requirement already satisfied: h5py in /usr/local/lib/python3.6/dist-packages (from keras-applications>=1.0.6->tensorflow>=1.4.0->nengo-dl==2.0.0) (2.10.0)\n",
            "Requirement already satisfied: importlib-metadata; python_version < \"3.8\" in /usr/local/lib/python3.6/dist-packages (from markdown>=2.6.8->tensorboard<1.15.0,>=1.14.0->tensorflow>=1.4.0->nengo-dl==2.0.0) (1.6.0)\n",
            "Requirement already satisfied: zipp>=0.5 in /usr/local/lib/python3.6/dist-packages (from importlib-metadata; python_version < \"3.8\"->markdown>=2.6.8->tensorboard<1.15.0,>=1.14.0->tensorflow>=1.4.0->nengo-dl==2.0.0) (3.1.0)\n",
            "Requirement already satisfied: nengo==2.7.0 in /usr/local/lib/python3.6/dist-packages (2.7.0)\n",
            "Requirement already satisfied: numpy>=1.8 in /usr/local/lib/python3.6/dist-packages (from nengo==2.7.0) (1.18.5)\n",
            "Requirement already satisfied: tensorflow==1.14 in /usr/local/lib/python3.6/dist-packages (1.14.0)\n",
            "Requirement already satisfied: keras-applications>=1.0.6 in /usr/local/lib/python3.6/dist-packages (from tensorflow==1.14) (1.0.8)\n",
            "Requirement already satisfied: numpy<2.0,>=1.14.5 in /usr/local/lib/python3.6/dist-packages (from tensorflow==1.14) (1.18.5)\n",
            "Requirement already satisfied: absl-py>=0.7.0 in /usr/local/lib/python3.6/dist-packages (from tensorflow==1.14) (0.9.0)\n",
            "Requirement already satisfied: gast>=0.2.0 in /usr/local/lib/python3.6/dist-packages (from tensorflow==1.14) (0.3.3)\n",
            "Requirement already satisfied: keras-preprocessing>=1.0.5 in /usr/local/lib/python3.6/dist-packages (from tensorflow==1.14) (1.1.2)\n",
            "Requirement already satisfied: wheel>=0.26 in /usr/local/lib/python3.6/dist-packages (from tensorflow==1.14) (0.34.2)\n",
            "Requirement already satisfied: google-pasta>=0.1.6 in /usr/local/lib/python3.6/dist-packages (from tensorflow==1.14) (0.2.0)\n",
            "Requirement already satisfied: six>=1.10.0 in /usr/local/lib/python3.6/dist-packages (from tensorflow==1.14) (1.12.0)\n",
            "Requirement already satisfied: tensorflow-estimator<1.15.0rc0,>=1.14.0rc0 in /usr/local/lib/python3.6/dist-packages (from tensorflow==1.14) (1.14.0)\n",
            "Requirement already satisfied: astor>=0.6.0 in /usr/local/lib/python3.6/dist-packages (from tensorflow==1.14) (0.8.1)\n",
            "Requirement already satisfied: protobuf>=3.6.1 in /usr/local/lib/python3.6/dist-packages (from tensorflow==1.14) (3.10.0)\n",
            "Requirement already satisfied: tensorboard<1.15.0,>=1.14.0 in /usr/local/lib/python3.6/dist-packages (from tensorflow==1.14) (1.14.0)\n",
            "Requirement already satisfied: termcolor>=1.1.0 in /usr/local/lib/python3.6/dist-packages (from tensorflow==1.14) (1.1.0)\n",
            "Requirement already satisfied: wrapt>=1.11.1 in /usr/local/lib/python3.6/dist-packages (from tensorflow==1.14) (1.12.1)\n",
            "Requirement already satisfied: grpcio>=1.8.6 in /usr/local/lib/python3.6/dist-packages (from tensorflow==1.14) (1.29.0)\n",
            "Requirement already satisfied: h5py in /usr/local/lib/python3.6/dist-packages (from keras-applications>=1.0.6->tensorflow==1.14) (2.10.0)\n",
            "Requirement already satisfied: setuptools in /usr/local/lib/python3.6/dist-packages (from protobuf>=3.6.1->tensorflow==1.14) (47.1.1)\n",
            "Requirement already satisfied: werkzeug>=0.11.15 in /usr/local/lib/python3.6/dist-packages (from tensorboard<1.15.0,>=1.14.0->tensorflow==1.14) (1.0.1)\n",
            "Requirement already satisfied: markdown>=2.6.8 in /usr/local/lib/python3.6/dist-packages (from tensorboard<1.15.0,>=1.14.0->tensorflow==1.14) (3.2.2)\n",
            "Requirement already satisfied: importlib-metadata; python_version < \"3.8\" in /usr/local/lib/python3.6/dist-packages (from markdown>=2.6.8->tensorboard<1.15.0,>=1.14.0->tensorflow==1.14) (1.6.0)\n",
            "Requirement already satisfied: zipp>=0.5 in /usr/local/lib/python3.6/dist-packages (from importlib-metadata; python_version < \"3.8\"->markdown>=2.6.8->tensorboard<1.15.0,>=1.14.0->tensorflow==1.14) (3.1.0)\n",
            "Requirement already satisfied: tensorflow-gpu==1.14 in /usr/local/lib/python3.6/dist-packages (1.14.0)\n",
            "Requirement already satisfied: tensorflow-estimator<1.15.0rc0,>=1.14.0rc0 in /usr/local/lib/python3.6/dist-packages (from tensorflow-gpu==1.14) (1.14.0)\n",
            "Requirement already satisfied: absl-py>=0.7.0 in /usr/local/lib/python3.6/dist-packages (from tensorflow-gpu==1.14) (0.9.0)\n",
            "Requirement already satisfied: google-pasta>=0.1.6 in /usr/local/lib/python3.6/dist-packages (from tensorflow-gpu==1.14) (0.2.0)\n",
            "Requirement already satisfied: termcolor>=1.1.0 in /usr/local/lib/python3.6/dist-packages (from tensorflow-gpu==1.14) (1.1.0)\n",
            "Requirement already satisfied: grpcio>=1.8.6 in /usr/local/lib/python3.6/dist-packages (from tensorflow-gpu==1.14) (1.29.0)\n",
            "Requirement already satisfied: wrapt>=1.11.1 in /usr/local/lib/python3.6/dist-packages (from tensorflow-gpu==1.14) (1.12.1)\n",
            "Requirement already satisfied: wheel>=0.26 in /usr/local/lib/python3.6/dist-packages (from tensorflow-gpu==1.14) (0.34.2)\n",
            "Requirement already satisfied: gast>=0.2.0 in /usr/local/lib/python3.6/dist-packages (from tensorflow-gpu==1.14) (0.3.3)\n",
            "Requirement already satisfied: keras-preprocessing>=1.0.5 in /usr/local/lib/python3.6/dist-packages (from tensorflow-gpu==1.14) (1.1.2)\n",
            "Requirement already satisfied: protobuf>=3.6.1 in /usr/local/lib/python3.6/dist-packages (from tensorflow-gpu==1.14) (3.10.0)\n",
            "Requirement already satisfied: tensorboard<1.15.0,>=1.14.0 in /usr/local/lib/python3.6/dist-packages (from tensorflow-gpu==1.14) (1.14.0)\n",
            "Requirement already satisfied: numpy<2.0,>=1.14.5 in /usr/local/lib/python3.6/dist-packages (from tensorflow-gpu==1.14) (1.18.5)\n",
            "Requirement already satisfied: keras-applications>=1.0.6 in /usr/local/lib/python3.6/dist-packages (from tensorflow-gpu==1.14) (1.0.8)\n",
            "Requirement already satisfied: astor>=0.6.0 in /usr/local/lib/python3.6/dist-packages (from tensorflow-gpu==1.14) (0.8.1)\n",
            "Requirement already satisfied: six>=1.10.0 in /usr/local/lib/python3.6/dist-packages (from tensorflow-gpu==1.14) (1.12.0)\n",
            "Requirement already satisfied: setuptools in /usr/local/lib/python3.6/dist-packages (from protobuf>=3.6.1->tensorflow-gpu==1.14) (47.1.1)\n",
            "Requirement already satisfied: markdown>=2.6.8 in /usr/local/lib/python3.6/dist-packages (from tensorboard<1.15.0,>=1.14.0->tensorflow-gpu==1.14) (3.2.2)\n",
            "Requirement already satisfied: werkzeug>=0.11.15 in /usr/local/lib/python3.6/dist-packages (from tensorboard<1.15.0,>=1.14.0->tensorflow-gpu==1.14) (1.0.1)\n",
            "Requirement already satisfied: h5py in /usr/local/lib/python3.6/dist-packages (from keras-applications>=1.0.6->tensorflow-gpu==1.14) (2.10.0)\n",
            "Requirement already satisfied: importlib-metadata; python_version < \"3.8\" in /usr/local/lib/python3.6/dist-packages (from markdown>=2.6.8->tensorboard<1.15.0,>=1.14.0->tensorflow-gpu==1.14) (1.6.0)\n",
            "Requirement already satisfied: zipp>=0.5 in /usr/local/lib/python3.6/dist-packages (from importlib-metadata; python_version < \"3.8\"->markdown>=2.6.8->tensorboard<1.15.0,>=1.14.0->tensorflow-gpu==1.14) (3.1.0)\n",
            "TensorFlow 1.x selected.\n",
            "WARNING:tensorflow:From /tensorflow-1.15.2/python3.6/tensorflow_core/python/compat/v2_compat.py:68: disable_resource_variables (from tensorflow.python.ops.variable_scope) is deprecated and will be removed in a future version.\n",
            "Instructions for updating:\n",
            "non-resource variables are not supported in the long term\n",
            "WARNING:tensorflow:From /usr/local/lib/python3.6/dist-packages/nengo_dl/__init__.py:52: The name tf.logging.set_verbosity is deprecated. Please use tf.compat.v1.logging.set_verbosity instead.\n",
            "\n",
            "WARNING:tensorflow:From /usr/local/lib/python3.6/dist-packages/nengo_dl/__init__.py:52: The name tf.logging.WARN is deprecated. Please use tf.compat.v1.logging.WARN instead.\n",
            "\n"
          ],
          "name": "stdout"
        }
      ]
    },
    {
      "cell_type": "code",
      "metadata": {
        "id": "FeA079GYuaZW",
        "colab_type": "code",
        "outputId": "f7b23f7e-8258-4dd6-f77d-929d998f6a60",
        "colab": {
          "base_uri": "https://localhost:8080/",
          "height": 69
        }
      },
      "source": [
        " %cd /content/\n",
        "!git clone https://github.com/shriya999/caltech_subset.git\n",
        "\n",
        "import pandas as pd\n",
        "import os\n",
        "from matplotlib import image\n",
        "import numpy as np\n",
        "from skimage.color import rgb2gray\n",
        "from skimage.transform import resize\n",
        "from PIL import Image\n",
        "from sklearn.model_selection import train_test_split\n",
        "import numpy as np\n",
        "from matplotlib import pyplot as plt\n",
        "\n",
        "path1 = \"/content/caltech_subset/airplanes/\"\n",
        "path2 = \"/content/caltech_subset/Motorbikes/\"\n",
        "\n",
        "dataset = []\n",
        "labels = []\n",
        "dimen1 = 150\n",
        "dimen2 = 200\n",
        "\n",
        "for filename in os.listdir(path1):\n",
        "    data = rgb2gray(image.imread(path1+filename))\n",
        "    data = resize(data, (dimen1, dimen2),anti_aliasing=True)\n",
        "    dataset.append(data)\n",
        "    labels.append([0,1])\n",
        "\n",
        "for filename in os.listdir(path2):\n",
        "    data = rgb2gray(image.imread(path2+filename))\n",
        "    data = resize(data, (dimen1, dimen2),anti_aliasing=True)\n",
        "    dataset.append(data)\n",
        "    labels.append([1,0])\n",
        "\n",
        "X_train, X_test, y_train, y_test = train_test_split(dataset, labels, test_size=0.11, random_state=42, shuffle = True)\n",
        "\n",
        "train_data = np.asarray(X_train, dtype=np.float32)\n",
        "train_labels = np.asarray(y_train, dtype=np.float32)\n",
        "test_data = np.asarray(X_test, dtype=np.float32)\n",
        "test_labels = np.asarray(y_test, dtype=np.float32)\n",
        "\n",
        "print(train_data.shape, test_data.shape, train_labels.shape, test_labels.shape)"
      ],
      "execution_count": 2,
      "outputs": [
        {
          "output_type": "stream",
          "text": [
            "/content\n",
            "fatal: destination path 'caltech_subset' already exists and is not an empty directory.\n",
            "(1422, 150, 200) (176, 150, 200) (1422, 2) (176, 2)\n"
          ],
          "name": "stdout"
        }
      ]
    },
    {
      "cell_type": "code",
      "metadata": {
        "id": "XfhFvFYSupAW",
        "colab_type": "code",
        "outputId": "e83b5e87-2ef3-40a6-8208-a88d18f143dc",
        "colab": {
          "base_uri": "https://localhost:8080/",
          "height": 941
        }
      },
      "source": [
        "import numpy as np\n",
        "#from tensorflow.examples.tutorials.mnist import input_data\n",
        "from scipy.ndimage import correlate\n",
        "%matplotlib inline \n",
        "import matplotlib.pyplot as plt\n",
        "\n",
        "#tf.compat.v1.reset_default_graph()\n",
        "tf.reset_default_graph()\n",
        "\n",
        "x_input = tf.placeholder(dtype=tf.float32, shape=[None, train_data.shape[1]*train_data.shape[2]], name='x_input')\n",
        "y_input = tf.placeholder(dtype=tf.float32, shape=[None, train_labels.shape[1]], name='actual_label')\n",
        "\n",
        "x_in = x_input\n",
        "y_in = y_input\n",
        "\n",
        "def dog_on(n,v,p):\n",
        "\n",
        "  nr = np.floor(n/2) # half the size\n",
        "  t = p * v # std deviation of surround (s2)\n",
        "  \n",
        "  x,y = np.mgrid[-nr:nr,-nr:nr]\n",
        "  \n",
        "  H  = 10*(1/(2 * np.pi * (v**2) )) * np.exp(-( (x**2) + (y**2) )/( 2 * (v**2) ))         # gaussian for center\n",
        "  K  = 10*(1/(2 * np.pi * (t**2) )) * np.exp(-( (x**2) + (y**2) )/( 2 * (t**2) ))         # gaussian for surround\n",
        "  \n",
        "  s1 = np.sum( np.sum(H) )\n",
        "  s2 = np.sum( np.sum(K) )\n",
        "  \n",
        "  D = ((s2 * H) - (s1 * K))\n",
        "  return D\n",
        "\n",
        "off_midget = -(dog_on(5,0.8,6.7))     # midget off center\n",
        "on_midget = dog_on(11,1.04,6.7)    # midget on center\n",
        "off_parasol = -(dog_on(61,8,4.8))     # parasol off center\n",
        "on_parasol = dog_on(243,10.4,4.8)  # parasol on center\n",
        "\n",
        "\n",
        "plt.figure()\n",
        "plt.imshow( off_midget ,cmap=\"gray\")\n",
        "plt.axis('off')\n",
        "\n",
        "plt.figure()\n",
        "plt.imshow( on_midget ,cmap=\"gray\")\n",
        "plt.axis('off')\n",
        "\n",
        "plt.figure()\n",
        "plt.imshow( off_parasol ,cmap=\"gray\")\n",
        "plt.axis('off')\n",
        "\n",
        "plt.figure()\n",
        "plt.imshow( on_parasol ,cmap=\"gray\")\n",
        "plt.axis('off')\n",
        "\n",
        "\n",
        "def DoG_conv(image):\n",
        "\n",
        "  first_img = np.reshape( image, (28,28))\n",
        "  on_conv = correlate(first_img, on_filt, mode='constant')\n",
        "  off_conv = correlate( first_img, off_filt, mode='constant')\n",
        "\n",
        "  final_img = np.zeros( (first_img.shape[0], first_img.shape[1]), dtype = np.float32 )\n",
        "  for i in range(first_img.shape[0]):\n",
        "    for j in range(first_img.shape[1]):\n",
        "      final_img[i][j] = np.maximum( on_conv[i][j], off_conv[i][j] )\n",
        "  \n",
        "  return np.reshape(final_img,(784,))"
      ],
      "execution_count": 3,
      "outputs": [
        {
          "output_type": "display_data",
          "data": {
            "image/png": "[encoded data removed]",
            "text/plain": [
              "<Figure size 432x288 with 1 Axes>"
            ]
          },
          "metadata": {
            "tags": [],
            "needs_background": "light"
          }
        },
        {
          "output_type": "display_data",
          "data": {
            "image/png": "[encoded data removed]",
            "text/plain": [
              "<Figure size 432x288 with 1 Axes>"
            ]
          },
          "metadata": {
            "tags": [],
            "needs_background": "light"
          }
        },
        {
          "output_type": "display_data",
          "data": {
            "image/png": "[encoded data removed]",
            "text/plain": [
              "<Figure size 432x288 with 1 Axes>"
            ]
          },
          "metadata": {
            "tags": [],
            "needs_background": "light"
          }
        },
        {
          "output_type": "display_data",
          "data": {
            "image/png": "[encoded data removed]",
            "text/plain": [
              "<Figure size 432x288 with 1 Axes>"
            ]
          },
          "metadata": {
            "tags": [],
            "needs_background": "light"
          }
        }
      ]
    },
    {
      "cell_type": "markdown",
      "metadata": {
        "id": "czlTS24cwKYI",
        "colab_type": "text"
      },
      "source": [
        "FILTERING WITH ALL FOUR DoGS"
      ]
    },
    {
      "cell_type": "code",
      "metadata": {
        "id": "jBqvQIHLvlVY",
        "colab_type": "code",
        "colab": {
          "base_uri": "https://localhost:8080/",
          "height": 121
        },
        "outputId": "bfa82ae0-5cc5-4545-87ea-a5a5376014e7"
      },
      "source": [
        "train_set = train_data[:,:,:]\n",
        "test_set = test_data[:,:,:]\n",
        "\n",
        "# midget cells\n",
        "\n",
        "moff_train = []\n",
        "print(train_set.shape)\n",
        "modulus = train_set.shape[0]\n",
        "for i in train_set:\n",
        "  img = correlate(i, off_midget, mode='constant')\n",
        "  moff_train.append( img )\n",
        "  \n",
        "mon_train = []\n",
        "print(train_set.shape)\n",
        "modulus = train_set.shape[0]\n",
        "for i in train_set:\n",
        "  img = correlate(i, on_midget, mode='constant')\n",
        "  mon_train.append( img )\n",
        "\n",
        "moff_test = []\n",
        "print(test_set.shape)\n",
        "for i in test_set:\n",
        "  img = correlate(i, off_midget, mode='constant')\n",
        "  moff_test.append( img )\n",
        "  \n",
        "mon_test = []\n",
        "print(test_set.shape)\n",
        "for i in test_set:\n",
        "  img = correlate(i, on_midget, mode='constant')\n",
        "  mon_test.append( img )\n",
        "\n",
        "# parasol cells\n",
        "\n",
        "poff_train = []\n",
        "print(train_set.shape)\n",
        "modulus = train_set.shape[0]\n",
        "for i in train_set:\n",
        "  img = correlate(i, off_parasol, mode='constant')\n",
        "  poff_train.append( img )\n",
        "\n",
        "poff_test = []\n",
        "print(test_set.shape)\n",
        "for i in test_set:\n",
        "  img = correlate(i, off_parasol, mode='constant')\n",
        "  poff_test.append( img )\n",
        "  \n",
        "# pon_train = []\n",
        "# print(train_set.shape)\n",
        "# modulus = train_set.shape[0]\n",
        "# for i in train_set:\n",
        "#   img = correlate(i, on_parasol, mode='constant')\n",
        "#   pon_train.append( img )\n",
        "  \n",
        "# pon_test = []\n",
        "# print(test_set.shape)\n",
        "# for i in test_set:\n",
        "#   img = correlate(i, on_parasol, mode='constant')\n",
        "#   pon_test.append( img )"
      ],
      "execution_count": 4,
      "outputs": [
        {
          "output_type": "stream",
          "text": [
            "(1422, 150, 200)\n",
            "(1422, 150, 200)\n",
            "(176, 150, 200)\n",
            "(176, 150, 200)\n",
            "(1422, 150, 200)\n",
            "(176, 150, 200)\n"
          ],
          "name": "stdout"
        }
      ]
    },
    {
      "cell_type": "markdown",
      "metadata": {
        "id": "Kjft9jNcwRek",
        "colab_type": "text"
      },
      "source": [
        "OUTPUTS WITH INDIVIDUAL FILTERS"
      ]
    },
    {
      "cell_type": "code",
      "metadata": {
        "id": "SaKgVz6YwS57",
        "colab_type": "code",
        "colab": {}
      },
      "source": [
        " disp = 6\n",
        " \n",
        " for i in range(disp):\n",
        "    plt.figure()\n",
        "    plt.imshow( train_data[i],cmap=\"gray\")\n",
        "    plt.axis('off')\n",
        "    plt.title(str(np.argmax(train_labels[i])));\n",
        "    plt.show()\n",
        " \n",
        "for i in range(disp):\n",
        "    plt.figure()\n",
        "    plt.imshow( moff_train[i],cmap=\"gray\")\n",
        "    plt.axis('off')\n",
        "    plt.title(str(np.argmax(train_labels[i])));\n",
        "    plt.show()\n",
        "    \n",
        "for i in range(disp):\n",
        "    plt.figure()\n",
        "    plt.imshow( mon_train[i],cmap=\"gray\")\n",
        "    plt.axis('off')\n",
        "    plt.title(str(np.argmax(train_labels[i])));\n",
        "    plt.show()\n",
        "    \n",
        "for i in range(disp):\n",
        "    plt.figure()\n",
        "    plt.imshow( poff_train[i],cmap=\"gray\")\n",
        "    plt.axis('off')\n",
        "    plt.title(str(np.argmax(train_labels[i])));\n",
        "    plt.show()\n",
        "    \n",
        "for i in range(disp):\n",
        "    plt.figure()\n",
        "    plt.imshow( pon_train[i],cmap=\"gray\")\n",
        "    plt.axis('off')\n",
        "    plt.title(str(np.argmax(train_labels[i])));\n",
        "    plt.show()"
      ],
      "execution_count": 0,
      "outputs": []
    },
    {
      "cell_type": "markdown",
      "metadata": {
        "id": "9rrZ9OTqwXHX",
        "colab_type": "text"
      },
      "source": [
        "COMBINING OUTPUTS FROM DIFFERENT FILTERS"
      ]
    },
    {
      "cell_type": "code",
      "metadata": {
        "id": "c_lkdwrKwaV9",
        "colab_type": "code",
        "colab": {}
      },
      "source": [
        "moff_mon_poff_pon = []\n",
        "for k in range(len(pon_train)):\n",
        "  img = np.zeros((dimen1,dimen2))\n",
        "  for i in range(dimen1):\n",
        "    for j in range(dimen2):\n",
        "      max_val = max( max(pon_train[k][i][j], poff_train[k][i][j]), max(mon_train[k][i][j], moff_train[k][i][j]) )\n",
        "      img[i][j] = max_val\n",
        "  moff_mon_poff_pon.append(img)\n",
        "\n",
        "moff_mon_poff = []\n",
        "for k in range(len(pon_train)):\n",
        "  img = np.zeros((dimen1,dimen2))\n",
        "  for i in range(dimen1):\n",
        "    for j in range(dimen2):\n",
        "      max_val = max( poff_train[k][i][j], max(mon_train[k][i][j], moff_train[k][i][j]) )\n",
        "      img[i][j] = max_val\n",
        "  moff_mon_poff.append(img)\n",
        "\n",
        "moff_poff = []\n",
        "for k in range(len(pon_train)):\n",
        "  img = np.zeros((dimen1,dimen2))\n",
        "  for i in range(dimen1):\n",
        "    for j in range(dimen2):\n",
        "      max_val = max( poff_train[k][i][j], moff_train[k][i][j] )\n",
        "      img[i][j] = max_val\n",
        "  moff_poff.append(img)\n",
        "\n",
        "moff_pon = []\n",
        "for k in range(len(pon_train)):\n",
        "  img = np.zeros((dimen1,dimen2))\n",
        "  for i in range(dimen1):\n",
        "    for j in range(dimen2):\n",
        "      max_val = max( pon_train[k][i][j], moff_train[k][i][j] )\n",
        "      img[i][j] = max_val\n",
        "  moff_pon.append(img)\n",
        "\n",
        "mon_poff = []\n",
        "for k in range(len(pon_train)):\n",
        "  img = np.zeros((dimen1,dimen2))\n",
        "  for i in range(dimen1):\n",
        "    for j in range(dimen2):\n",
        "      max_val = max( poff_train[k][i][j], mon_train[k][i][j] )\n",
        "      img[i][j] = max_val\n",
        "  mon_poff.append(img)\n",
        "\n",
        "mon_pon = []\n",
        "for k in range(len(pon_train)):\n",
        "  img = np.zeros((dimen1,dimen2))\n",
        "  for i in range(dimen1):\n",
        "    for j in range(dimen2):\n",
        "      max_val = max( pon_train[k][i][j], mon_train[k][i][j] )\n",
        "      img[i][j] = max_val\n",
        "  mon_pon.append(img)\n",
        "\n",
        "print(\" with all four filters\")\n",
        "\n",
        "for i in range(disp):\n",
        "    plt.figure()\n",
        "    plt.imshow( moff_mon_poff_pon[i], cmap =\"gray\")\n",
        "    plt.axis('off')\n",
        "    plt.title(str(np.argmax(train_labels[i])));\n",
        "    plt.show()\n",
        "\n",
        "print(\" with moff, mon and poff filters\")\n",
        "\n",
        "for i in range(disp):\n",
        "    plt.figure()\n",
        "    plt.imshow( moff_mon_poff[i], cmap =\"gray\")\n",
        "    plt.axis('off')\n",
        "    plt.title(str(np.argmax(train_labels[i])));\n",
        "    plt.show()\n",
        "\n",
        "print(\" with moff and poff\")\n",
        "\n",
        "for i in range(disp):\n",
        "    plt.figure()\n",
        "    plt.imshow( moff_poff[i], cmap =\"gray\")\n",
        "    plt.axis('off')\n",
        "    plt.title(str(np.argmax(train_labels[i])));\n",
        "    plt.show()\n",
        "\n",
        "print(\" with moff and pon\")\n",
        "\n",
        "for i in range(disp):\n",
        "    plt.figure()\n",
        "    plt.imshow( moff_pon[i], cmap =\"gray\")\n",
        "    plt.axis('off')\n",
        "    plt.title(str(np.argmax(train_labels[i])));\n",
        "    plt.show()\n",
        "\n",
        "print(\" with mon and poff\")\n",
        "\n",
        "for i in range(disp):\n",
        "    plt.figure()\n",
        "    plt.imshow( mon_poff[i], cmap =\"gray\")\n",
        "    plt.axis('off')\n",
        "    plt.title(str(np.argmax(train_labels[i])));\n",
        "    plt.show()\n",
        "\n",
        "print(\" with mon and pon\")\n",
        "\n",
        "for i in range(disp):\n",
        "    plt.figure()\n",
        "    plt.imshow( mon_pon[i], cmap =\"gray\")\n",
        "    plt.axis('off')\n",
        "    plt.title(str(np.argmax(train_labels[i])));\n",
        "    plt.show()"
      ],
      "execution_count": 0,
      "outputs": []
    },
    {
      "cell_type": "markdown",
      "metadata": {
        "id": "0_m-vBPNwwih",
        "colab_type": "text"
      },
      "source": [
        "RECONSTRUCTION"
      ]
    },
    {
      "cell_type": "code",
      "metadata": {
        "id": "Pi07n2O0wy8a",
        "colab_type": "code",
        "colab": {}
      },
      "source": [
        "import scipy.signal\n",
        "import numpy as np\n",
        "\n",
        "def recon_func(recon_img, kernel, coeff, x, y):\n",
        "  ma = recon_img.shape[0]\n",
        "  na = recon_img.shape[1]\n",
        "  mb = kernel.shape[0]\n",
        "  nb = kernel.shape[1]\n",
        "  r1 = int(np.ceil(mb/2))\n",
        "  s1 = int(np.ceil(nb/2))\n",
        "  i1 = max(0, x-r1)\n",
        "\n",
        "  for r in range(max(0,r1-x),mb):\n",
        "    if(i1>=ma):\n",
        "      break\n",
        "\n",
        "    j1 = max(0,y-s1)\n",
        "    for s in range(max(0,s1-y),nb):\n",
        "      if(j1>=na):\n",
        "        break\n",
        "      recon_img[i1][j1] = recon_img[i1][j1] + kernel[r][s] * coeff\n",
        "      j1 = j1+1\n",
        "    i1 = i1+1\n",
        "  return recon_img\n",
        "\n",
        "def kernel_picker(cell_type):\n",
        "  kernel = 0\n",
        "  stride = 0\n",
        "\n",
        "  if(cell_type == 0):\n",
        "    kernel = off_midget\n",
        "    stride = 2\n",
        "  elif(cell_type == 1):\n",
        "    kernel = on_midget\n",
        "    stride = 5\n",
        "  else:\n",
        "    kernel = off_parasol\n",
        "    stride = 30\n",
        "  \n",
        "  return kernel,stride\n",
        "\n",
        "def lat_inh(ma, na, i, sorted_keys, cfs, dict1, dict2):\n",
        "\n",
        "  cfthr1 = np.zeros(len(sorted_keys)-i-1)\n",
        "  count = 0\n",
        "  temp = sorted_keys[i]\n",
        "  (row1,col1) = dict1[temp]\n",
        "  (kernel1,stride) = kernel_picker(dict2[temp])\n",
        "  mb1 = kernel1.shape[0]\n",
        "  nb1 = kernel1.shape[1]\n",
        "\n",
        "  for ind in range(i,int(len(sorted_keys)) ):\n",
        "\n",
        "    index = sorted_keys[ind - 1]\n",
        "\n",
        "    (row2, col2) = dict1[index]\n",
        "    (kernel2,stride2) = kernel_picker(dict2[index])\n",
        "    mb2 = nb2 = kernel2.shape[0]\n",
        "\n",
        "    psf = 0\n",
        "    minrow1 = row1 - int((mb1 - 1)/2)\n",
        "    maxrow1 = min(row1 + int((mb1 - 1)/2) , ma)\n",
        "    mincol1 = col1 - int((nb1-1)/2)\n",
        "    maxcol1 = min(col1 + int((nb1 - 1)/2), na)\n",
        "\n",
        "    shiftrow1 = 0\n",
        "    shiftcol1 = 0\n",
        "\n",
        "    if(minrow1 < 0):\n",
        "      shiftrow1 = 0 - minrow1\n",
        "      minrow1 = 0\n",
        "    else:\n",
        "      shiftrow1 = 0\n",
        "\n",
        "    if mincol1<0 :\n",
        "      shiftcol1 = 0 - mincol1\n",
        "      mincol1 = 0\n",
        "    else:\n",
        "      shiftcol1 = 0\n",
        "\n",
        "    minrow2 = row2 - int((mb2 - 1)/2)\n",
        "    maxrow2 = min(row2 + int((mb2 - 1)/2), ma)\n",
        "    mincol2 = col2 - int((nb2 - 1)/2)\n",
        "    maxcol2 = min(col2 + int((nb2-1)/2), na)\n",
        "\n",
        "    if(minrow2<0):\n",
        "      shiftrow2 = 0 - minrow2\n",
        "      minrow2 = 0\n",
        "    else:\n",
        "      shiftrow2 = 0\n",
        "\n",
        "    if(mincol2<0):\n",
        "      shiftcol2 = 0 - mincol2\n",
        "      mincol2 = 0\n",
        "    else:\n",
        "      shiftcol2 = 0\n",
        "\n",
        "    rowloopstart = max (minrow1, minrow2)\n",
        "    rowloopend = min (maxrow1, maxrow2)\n",
        "    colloopstart = max (mincol1, mincol2)\n",
        "    colloopend = min (maxcol1, maxcol2)    \n",
        "\n",
        "    for r in range(rowloopstart, rowloopend+1):\n",
        "      for c in range(colloopstart, colloopend+1):\n",
        "          r1 = r - minrow1 + shiftrow1\n",
        "          c1 = c - mincol1 + shiftcol1\n",
        "          r2 = r - minrow2 + shiftrow2\n",
        "          c2 = c - mincol2 + shiftcol2\n",
        "\n",
        "          # print(r1,c1,r2,c2)\n",
        "          # print(kernel.shape[0], kernel.shape[1], kernel2.shape[0], kernel2.shape[1])\t \n",
        "\n",
        "          psf += kernel1[r1][c1] * kernel2[r2][c2]\n",
        "    cfthr1[count - 1] = cfs[sorted_keys[ind - 1]] - (cfs[sorted_keys[i]] * psf)\n",
        "    count = count+1\n",
        "  return cfthr1"
      ],
      "execution_count": 0,
      "outputs": []
    },
    {
      "cell_type": "code",
      "metadata": {
        "id": "QG2GzUH8xACC",
        "colab_type": "code",
        "colab": {}
      },
      "source": [
        "for k in range(int(disp)):\n",
        "\n",
        "  plt.figure()\n",
        "  plt.imshow( train_data[k], cmap =\"gray\")\n",
        "  plt.axis('off')\n",
        "  plt.show()\n",
        "  \n",
        "  lencfs = 0\n",
        "  cfs = dict()\n",
        "  dict1 = dict()        # storing the mapping from pixel values to location (i,j)\n",
        "  dict2 = dict()         # storing the mapping from pixel values to type of filter 0:moff, 1:mon, 2:poff, 3:pon\n",
        "\n",
        "  for i in range(moff_train[k].shape[0]):\n",
        "    for j in range(moff_train[k].shape[1]):\n",
        "      cfs.update( {lencfs : moff_train[k][i][j]})\n",
        "      dict1.update( {lencfs : (i,j)} )\n",
        "      dict2.update( {lencfs : 0} )\n",
        "      lencfs = lencfs + 1\n",
        "\n",
        "  for i in range(mon_train[k].shape[0]):\n",
        "    for j in range(mon_train[k].shape[1]):\n",
        "      cfs.update( {lencfs : mon_train[k][i][j]})\n",
        "      dict1.update( {lencfs : (i,j)} )\n",
        "      dict2.update( {lencfs : 1} )\n",
        "      lencfs = lencfs + 1\n",
        "\n",
        "  for i in range(poff_train[k].shape[0]):\n",
        "    for j in range(poff_train[k].shape[1]):\n",
        "      cfs.update( {lencfs : poff_train[k][i][j]})\n",
        "      dict1.update( {lencfs : (i,j)} )\n",
        "      dict2.update( {lencfs : 2} )\n",
        "      lencfs = lencfs + 1\n",
        "\n",
        "  items = sorted(cfs.items(), key=lambda s: s[1], reverse=True)\n",
        "  \n",
        "  sorted_keys = list(cfs.keys())\n",
        "  ro_image = np.zeros_like(moff_train[k]) # the rank ordered image\n",
        "  print(len(sorted_keys))\n",
        "\n",
        "  for i in range(int(len(sorted_keys)/3)):   # plotting the rank ordered image\n",
        "    (x,y) = dict1[sorted_keys[i]]\n",
        "    ro_image[x][y] = cfs[sorted_keys[i]]\n",
        "\n",
        "  plt.figure()\n",
        "  plt.imshow( ro_image, cmap =\"gray\")\n",
        "  plt.axis('off')\n",
        "  plt.show()\n",
        "\n",
        "  for i in range(0,len(sorted_keys)-2):            # correcting the ro image with lateral inhibition\n",
        "    cfthr1 = lat_inh( moff_train[k].shape[0], moff_train[k].shape[1], i, sorted_keys, cfs, dict1, dict2 )\n",
        "    cfthr1 = sorted(cfthr1, reverse=True)\n",
        "    for j in range(i+1,int(len(sorted_keys)) ):\n",
        "      key = sorted_keys[j]\n",
        "      cfs[key] = cfthr1[j-(i+1)]\n",
        " \n",
        "  for i in range(int(len(sorted_keys)/3)):   # plotting the corrected rank ordered image\n",
        "    (x,y) = dict1[sorted_keys[i]]\n",
        "    ro_image[x][y] = cfs[sorted_keys[i]]\n",
        "\n",
        "  plt.figure()\n",
        "  plt.imshow( ro_image, cmap =\"gray\")\n",
        "  plt.axis('off')\n",
        "  plt.show()\n",
        "\n",
        "  recon_image = np.zeros_like(moff_train[k]) # the reconstructed image\n",
        "  index = 0\n",
        "  for i in range(int(len(sorted_keys))):\n",
        "    (x,y) = dict1[sorted_keys[i]]\n",
        "    cell_type = dict2[sorted_keys[i]]\n",
        "    (kernel,stride) = kernel_picker(cell_type)\n",
        "\n",
        "    recon_image = recon_func(recon_image, kernel, cfs[sorted_keys[i]], x, y)\n",
        "\n",
        "    if(index%9000 == 0):\n",
        "      print(\"this is index number: \",index)\n",
        "      plt.figure()\n",
        "      plt.imshow( recon_image, cmap =\"gray\")\n",
        "      plt.axis('off')\n",
        "      plt.show()\n",
        "    index+=1"
      ],
      "execution_count": 0,
      "outputs": []
    },
    {
      "cell_type": "markdown",
      "metadata": {
        "id": "fhUbOpi0xri5",
        "colab_type": "text"
      },
      "source": [
        "CHOOSING THE OPTIMAL COMBINATION"
      ]
    },
    {
      "cell_type": "code",
      "metadata": {
        "id": "vHKekw8pxklE",
        "colab_type": "code",
        "colab": {}
      },
      "source": [
        "combined_train = []\n",
        "combined_test = []\n",
        "\n",
        "for k in range(len(poff_train)):\n",
        "  img = np.zeros((dimen1,dimen2))\n",
        "  for i in range(dimen1):\n",
        "    for j in range(dimen2):\n",
        "\n",
        "      if(moff_train[k][i][j] > mon_train[k][i][j]):\n",
        "        max_val = moff_train[k][i][j]\n",
        "      else:\n",
        "        max_val = mon_train[k][i][j]\n",
        "      if(poff_train[k][i][j] > max_val):\n",
        "        max_val = poff_train[k][i][j]\n",
        "\n",
        "      max_val = max( poff_train[k][i][j], max(moff_train[k][i][j], mon_train[k][i][j]) )\n",
        "      img[i][j] = max_val\n",
        "  combined_train.append(np.reshape(img,(30000,)))\n",
        "\n",
        "for k in range(len(poff_test)):\n",
        "  img = np.zeros((dimen1,dimen2))\n",
        "  for i in range(dimen1):\n",
        "    for j in range(dimen2):\n",
        "      max_val = max( poff_test[k][i][j], max(moff_test[k][i][j], mon_test[k][i][j]) )\n",
        "      img[i][j] = max_val\n",
        "  combined_test.append(np.reshape(img,(30000,)))"
      ],
      "execution_count": 0,
      "outputs": []
    },
    {
      "cell_type": "code",
      "metadata": {
        "id": "a-zViPxXY58A",
        "colab_type": "code",
        "colab": {}
      },
      "source": [
        "ro_train = []\n",
        "ro_test = []\n",
        "\n",
        "for k in range(len(poff_train)):  \n",
        "  lencfs = 0\n",
        "  cfs = dict()\n",
        "  dict1 = dict()        # storing the mapping from pixel values to location (i,j)\n",
        "  dict2 = dict()         # storing the mapping from pixel values to type of filter 0:moff, 1:mon, 2:poff, 3:pon\n",
        "\n",
        "  for i in range(moff_train[k].shape[0]):\n",
        "    for j in range(moff_train[k].shape[1]):\n",
        "      cfs.update( {lencfs : moff_train[k][i][j]})\n",
        "      dict1.update( {lencfs : (i,j)} )\n",
        "      dict2.update( {lencfs : 0} )\n",
        "      lencfs = lencfs + 1\n",
        "  for i in range(mon_train[k].shape[0]):\n",
        "    for j in range(mon_train[k].shape[1]):\n",
        "      cfs.update( {lencfs : mon_train[k][i][j]})\n",
        "      dict1.update( {lencfs : (i,j)} )\n",
        "      dict2.update( {lencfs : 1} )\n",
        "      lencfs = lencfs + 1\n",
        "  for i in range(poff_train[k].shape[0]):\n",
        "    for j in range(poff_train[k].shape[1]):\n",
        "      cfs.update( {lencfs : poff_train[k][i][j]})\n",
        "      dict1.update( {lencfs : (i,j)} )\n",
        "      dict2.update( {lencfs : 2} )\n",
        "      lencfs = lencfs + 1\n",
        "\n",
        "  items = sorted(cfs.items(), key=lambda s: s[1], reverse=True)\n",
        "  sorted_keys = list(cfs.keys())\n",
        "  ro_image = np.zeros_like(moff_train[k]) # the rank ordered image\n",
        "  for i in range(int(len(sorted_keys)/3)):   # plotting the rank ordered image\n",
        "    (x,y) = dict1[sorted_keys[i]]\n",
        "    ro_image[x][y] = cfs[sorted_keys[i]]\n",
        "  ro_train.append(np.reshape(ro_image,(30000,)))\n",
        "\n",
        "for k in range(len(poff_test)):\n",
        "  lencfs = 0\n",
        "  cfs = dict()\n",
        "  dict1 = dict()        # storing the mapping from pixel values to location (i,j)\n",
        "  dict2 = dict()         # storing the mapping from pixel values to type of filter 0:moff, 1:mon, 2:poff, 3:pon\n",
        "\n",
        "  for i in range(moff_test[k].shape[0]):\n",
        "    for j in range(moff_test[k].shape[1]):\n",
        "      cfs.update( {lencfs : moff_test[k][i][j]})\n",
        "      dict1.update( {lencfs : (i,j)} )\n",
        "      dict2.update( {lencfs : 0} )\n",
        "      lencfs = lencfs + 1\n",
        "  for i in range(mon_test[k].shape[0]):\n",
        "    for j in range(mon_test[k].shape[1]):\n",
        "      cfs.update( {lencfs : mon_test[k][i][j]})\n",
        "      dict1.update( {lencfs : (i,j)} )\n",
        "      dict2.update( {lencfs : 1} )\n",
        "      lencfs = lencfs + 1\n",
        "  for i in range(poff_test[k].shape[0]):\n",
        "    for j in range(poff_test[k].shape[1]):\n",
        "      cfs.update( {lencfs : poff_test[k][i][j]})\n",
        "      dict1.update( {lencfs : (i,j)} )\n",
        "      dict2.update( {lencfs : 2} )\n",
        "      lencfs = lencfs + 1\n",
        "\n",
        "  items = sorted(cfs.items(), key=lambda s: s[1], reverse=True)\n",
        "  sorted_keys = list(cfs.keys())\n",
        "  ro_image = np.zeros_like(moff_train[k]) # the rank ordered image\n",
        "  for i in range(int(len(sorted_keys)/3)):   \n",
        "    (x,y) = dict1[sorted_keys[i]]\n",
        "    ro_image[x][y] = cfs[sorted_keys[i]]\n",
        "  ro_test.append(np.reshape(ro_image,(30000,)))"
      ],
      "execution_count": 0,
      "outputs": []
    },
    {
      "cell_type": "markdown",
      "metadata": {
        "id": "NJuKsVs9yLwA",
        "colab_type": "text"
      },
      "source": [
        "LOADING THE DATA"
      ]
    },
    {
      "cell_type": "code",
      "metadata": {
        "id": "m7aVkVdoyHfi",
        "colab_type": "code",
        "outputId": "7053e2bf-05b8-47bf-8e5d-2a62c1f508a8",
        "colab": {
          "base_uri": "https://localhost:8080/",
          "height": 34
        }
      },
      "source": [
        "foveal_filter = off_midget       # options: off_midget, on_midget, off_parasol, on_parasol\n",
        "filtered_train = []\n",
        "modulus = train_data.shape[0]\n",
        "for i in train_data:\n",
        "  img = np.reshape(i, (150,200) )\n",
        "  img = correlate(img, foveal_filter, mode='constant')\n",
        "  filtered_train.append( np.reshape( img,(30000,)) )\n",
        "  \n",
        "filtered_test = []\n",
        "for i in test_data:\n",
        "  img = np.reshape(i, (150,200) )\n",
        "  img = correlate(img, foveal_filter, mode='constant')\n",
        "  filtered_test.append( np.reshape( img,(30000,)) )\n",
        "  \n",
        "train_features = np.asarray(filtered_train, dtype=np.float32)\n",
        "train_labels = np.asarray(train_labels, dtype=np.float32)\n",
        "test_features = np.asarray(filtered_test, dtype=np.float32)\n",
        "test_labels = np.asarray(test_labels, dtype=np.float32)\n",
        " \n",
        "print(train_features.shape, test_features.shape)"
      ],
      "execution_count": 12,
      "outputs": [
        {
          "output_type": "stream",
          "text": [
            "(1422, 30000) (176, 30000)\n"
          ],
          "name": "stdout"
        }
      ]
    },
    {
      "cell_type": "markdown",
      "metadata": {
        "id": "CBl59ruWyTRA",
        "colab_type": "text"
      },
      "source": [
        "THE NETWORK"
      ]
    },
    {
      "cell_type": "code",
      "metadata": {
        "id": "5DxqUpGpyQCb",
        "colab_type": "code",
        "colab": {}
      },
      "source": [
        "# lif parameters\n",
        "lif_neurons = nengo.LIF(amplitude=0.01)\n",
        "softlif_neurons = nengo_dl.SoftLIFRate(amplitude=0.01, sigma=0.001)\n",
        "ens_params = dict(max_rates=nengo.dists.Choice([100]), intercepts=nengo.dists.Choice([0]))\n",
        "n_filt = 1\n",
        "\n",
        "def build_network(neuron_type, output_synapse=None):\n",
        "  with nengo.Network() as net:\n",
        "        nengo_dl.configure_settings(trainable=False)\n",
        "\n",
        "        # the input node that will be used to feed in input images\n",
        "        inp = nengo.Node([0] * 150 * 200)\n",
        "\n",
        "        # add the first convolutional layer\n",
        "        x = nengo_dl.tensor_layer(inp, tf.layers.conv2d, shape_in=(150, 200, 1), filters=8 * n_filt, kernel_size=3, strides=1, padding='SAME')\n",
        "        x = nengo_dl.tensor_layer(x, neuron_type, **ens_params)\n",
        "\n",
        "        # add a pooling layer\n",
        "        x = nengo_dl.tensor_layer(x, tf.layers.average_pooling2d, shape_in=(150, 200, 8), pool_size=2, strides=2)\n",
        "\n",
        "        # add another convolutional layer\n",
        "        x = nengo_dl.tensor_layer(x, tf.layers.conv2d, shape_in=(75, 100, 8), filters=16 * n_filt, kernel_size=3, strides=1, padding='SAME')\n",
        "        x = nengo_dl.tensor_layer(x, neuron_type, **ens_params)\n",
        "\n",
        "        # add a pooling layer\n",
        "        x = nengo_dl.tensor_layer(x, tf.layers.average_pooling2d, shape_in=(75, 100, 16), pool_size=2, strides=2)\n",
        "\n",
        "        # another convolutional layer\n",
        "        x = nengo_dl.tensor_layer(x, tf.layers.conv2d, shape_in=(37, 50, 16),filters=32 * n_filt, kernel_size=3, strides=1, padding='SAME')\n",
        "        x = nengo_dl.tensor_layer(x, neuron_type, **ens_params)\n",
        "\n",
        "        # another pooling layer\n",
        "        x = nengo_dl.tensor_layer(x, tf.layers.average_pooling2d, shape_in=(37, 50, 32),pool_size=2, strides=2)\n",
        "\n",
        "        # linear readout\n",
        "        x = nengo_dl.tensor_layer(x, tf.layers.dense, units=2)\n",
        "        p = nengo.Probe(x, synapse=output_synapse)\n",
        "\n",
        "  return net, inp, p"
      ],
      "execution_count": 0,
      "outputs": []
    },
    {
      "cell_type": "code",
      "metadata": {
        "id": "lpgUsDqBye3x",
        "colab_type": "code",
        "outputId": "a4c9774a-df96-4980-cf63-c5771770e27a",
        "colab": {
          "base_uri": "https://localhost:8080/",
          "height": 193
        }
      },
      "source": [
        "# construct the network\n",
        "net, inp, out_p = build_network(softlif_neurons)\n",
        "\n",
        "# construct the simulator\n",
        "minibatch_size = 50\n",
        "sim = nengo_dl.Simulator(net, minibatch_size = minibatch_size)\n",
        "\n",
        "# add the single timestep to the training data\n",
        "train_input = {inp: train_features[:, None, :], out_p: train_labels[:, None, :]}\n",
        "test_input = {inp:  test_features[:minibatch_size*2, None, :], out_p: test_labels[:minibatch_size*2, None, :]}\n",
        "\n",
        "def objective(x, y):\n",
        "    return tf.nn.softmax_cross_entropy_with_logits_v2(logits=x, labels=y)\n",
        "  \n",
        "opt = tf.train.RMSPropOptimizer(learning_rate=0.001)\n",
        "\n",
        "def classification_acc(outputs, targets):\n",
        "    return 100 * (1 - tf.reduce_mean(tf.cast(tf.not_equal(tf.argmax(outputs[:, -1], axis=-1), tf.argmax(targets[:, -1], axis=-1)), tf.float32)))\n",
        "\n",
        "print(\"accuracy before training: %.2f%%\" % sim.loss(test_input, {out_p: classification_acc}))\n",
        "sim.train(train_input, opt, objective={out_p: objective}, n_epochs=3)\n",
        "sim.save_params(\"./mnist_params\")\n",
        "sim.close()"
      ],
      "execution_count": 14,
      "outputs": [
        {
          "output_type": "stream",
          "text": [
            "Building network\n",
            "Build finished in 0:00:00 \n",
            "Optimization finished in 0:00:01                                               \n",
            "Construction finished in 0:00:02                                               \n",
            "Calculation finished in 0:00:06                                                \n",
            "accuracy before training: 51.00%\n",
            "|                   Training (0%)                  | ETA:  --:--:-- (loss: ---)"
          ],
          "name": "stdout"
        },
        {
          "output_type": "stream",
          "text": [
            "/usr/local/lib/python3.6/dist-packages/nengo_dl/utils.py:483: UserWarning: Number of data elements (1422) is not an even multiple of minibatch size (50); inputs will be truncated\n",
            "  (n_inputs, minibatch_size)))\n"
          ],
          "name": "stderr"
        },
        {
          "output_type": "stream",
          "text": [
            "Training finished in 0:00:25 (loss: 1.6092)                                    \n"
          ],
          "name": "stdout"
        }
      ]
    },
    {
      "cell_type": "code",
      "metadata": {
        "id": "S-57iMlUyiH5",
        "colab_type": "code",
        "outputId": "bd76f233-d531-4817-da6e-d6e190020015",
        "colab": {
          "base_uri": "https://localhost:8080/",
          "height": 121
        }
      },
      "source": [
        "net, inp, out_p = build_network(lif_neurons, output_synapse=0.1)\n",
        "sim = nengo_dl.Simulator(net, minibatch_size=minibatch_size)\n",
        "sim.load_params(\"./mnist_params\")\n",
        "\n",
        "n_steps = 60\n",
        "test_input = {inp: np.tile(test_features[:minibatch_size*2, None, :], (1, n_steps, 1)), out_p: np.tile(test_labels[:minibatch_size*2, None, :], (1, n_steps, 1))}\n",
        "print(\"spiking neuron accuracy: %.2f%%\" % sim.loss(test_input, {out_p: classification_acc}))"
      ],
      "execution_count": 15,
      "outputs": [
        {
          "output_type": "stream",
          "text": [
            "Building network\n",
            "Build finished in 0:00:00 \n",
            "Optimization finished in 0:00:02                                               \n",
            "Construction finished in 0:00:02                                               \n",
            "Calculation finished in 0:00:18                                                \n",
            "spiking neuron accuracy: 90.00%\n"
          ],
          "name": "stdout"
        }
      ]
    },
    {
      "cell_type": "code",
      "metadata": {
        "id": "4o5hYJfayk9d",
        "colab_type": "code",
        "outputId": "0cd3e2f0-4377-4400-8013-38a429f638de",
        "colab": {
          "base_uri": "https://localhost:8080/",
          "height": 1000
        }
      },
      "source": [
        "sim.run_steps(n_steps, data={inp: test_input[inp][:minibatch_size]})\n",
        "\n",
        "for i in range(5):\n",
        "    plt.figure()\n",
        "    plt.subplot(1, 2, 1)\n",
        "    plt.imshow(np.reshape(test_input[inp][i, 0], (150, 200)),cmap=\"gray\")\n",
        "    plt.axis('off')\n",
        "\n",
        "    plt.subplot(1, 2, 2)\n",
        "    plt.plot(sim.trange(), sim.data[out_p][i])\n",
        "    plt.legend([str(i) for i in range(2)], loc=\"upper left\")\n",
        "    plt.xlabel(\"time\")\n",
        "\n",
        "sim.close()"
      ],
      "execution_count": 16,
      "outputs": [
        {
          "output_type": "stream",
          "text": [
            "Simulation finished in 0:00:03                                                 \n"
          ],
          "name": "stdout"
        },
        {
          "output_type": "display_data",
          "data": {
            "image/png": "[encoded data removed]",
            "text/plain": [
              "<Figure size 432x288 with 2 Axes>"
            ]
          },
          "metadata": {
            "tags": [],
            "needs_background": "light"
          }
        },
        {
          "output_type": "display_data",
          "data": {
            "image/png": "[encoded data removed]",
            "text/plain": [
              "<Figure size 432x288 with 2 Axes>"
            ]
          },
          "metadata": {
            "tags": [],
            "needs_background": "light"
          }
        },
        {
          "output_type": "display_data",
          "data": {
            "image/png": "[encoded data removed]",
            "text/plain": [
              "<Figure size 432x288 with 2 Axes>"
            ]
          },
          "metadata": {
            "tags": [],
            "needs_background": "light"
          }
        },
        {
          "output_type": "display_data",
          "data": {
            "image/png": "[encoded data removed]",
            "text/plain": [
              "<Figure size 432x288 with 2 Axes>"
            ]
          },
          "metadata": {
            "tags": [],
            "needs_background": "light"
          }
        },
        {
          "output_type": "display_data",
          "data": {
            "image/png": "[encoded data removed]",
            "text/plain": [
              "<Figure size 432x288 with 2 Axes>"
            ]
          },
          "metadata": {
            "tags": [],
            "needs_background": "light"
          }
        }
      ]
    }
  ]
}